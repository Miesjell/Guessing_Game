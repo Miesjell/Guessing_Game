{
 "cells": [
  {
   "cell_type": "code",
   "execution_count": null,
   "id": "a0e81dbc",
   "metadata": {
    "tags": []
   },
   "outputs": [],
   "source": [
    "import random"
   ]
  },
  {
   "cell_type": "code",
   "execution_count": null,
   "id": "f5b6bc93",
   "metadata": {},
   "outputs": [],
   "source": [
    "def guessing_game():\n",
    "    a = 1\n",
    "    b = 100\n",
    "    num = random.randint(a,b)\n",
    "    guess = \"\"\n",
    "    guess_limit = 5\n",
    "    guess_count = 0\n",
    "    while guess_count < guess_limit:\n",
    "        try:\n",
    "            guess = int(input(\"Guess a number between \" + str(a) + \" and \" + str(b) + \": \"))\n",
    "            if guess == num:\n",
    "                print(\"Congrats! You got it right!\")\n",
    "                break\n",
    "            elif guess < num:\n",
    "                if guess_count == guess_limit - 2:\n",
    "                    print(\"You only have one more guess left. It's a little higher.\\n\")\n",
    "                elif guess_count < guess_limit - 2:\n",
    "                    print(\"It's a little higher. Guess again!\\n\")\n",
    "                else:\n",
    "                    print(\"You're out of guesses. The number you were looking for was \" + str(num) + \".\\n\")\n",
    "            elif guess > num:\n",
    "                if guess_count == guess_limit - 2:\n",
    "                    print(\"You only have one more guess left. It's a little lower.\\n\")\n",
    "                elif guess_count < guess_limit - 2:\n",
    "                    print(\"It's a little lower. Guess again!\\n\")\n",
    "                else:\n",
    "                    print(\"You're out of guesses. The number you were looking for was \" + str(num) + \".\\n\")                \n",
    "        except ValueError:\n",
    "                print(\"It's a number between \" + str(a) + \" and \" + str(b) + \".\\n\")\n",
    "        guess_count += 1\n"
   ]
  },
  {
   "cell_type": "code",
   "execution_count": null,
   "id": "0983b4a2",
   "metadata": {},
   "outputs": [],
   "source": [
    "if __name__ == \"__main__\":\n",
    "    guessing_game()"
   ]
  },
 ],
 "metadata": {
  "kernelspec": {
   "display_name": "Python 3",
   "language": "python",
   "name": "python3"
  },
  "language_info": {
   "codemirror_mode": {
    "name": "ipython",
    "version": 3
   },
   "file_extension": ".py",
   "mimetype": "text/x-python",
   "name": "python",
   "nbconvert_exporter": "python",
   "pygments_lexer": "ipython3",
   "version": "3.8.8"
  }
 },
 "nbformat": 4,
 "nbformat_minor": 5
}
